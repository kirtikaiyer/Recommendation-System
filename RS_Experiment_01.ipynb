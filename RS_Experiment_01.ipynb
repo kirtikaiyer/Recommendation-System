{
  "cells": [
    {
      "cell_type": "code",
      "execution_count": 1,
      "id": "d531a3b9-e9ed-44da-a617-643a826e9e54",
      "metadata": {
        "id": "d531a3b9-e9ed-44da-a617-643a826e9e54"
      },
      "outputs": [],
      "source": [
        "import numpy as np"
      ]
    },
    {
      "cell_type": "markdown",
      "id": "a99eb9a7-4ca3-4385-b78b-d5be290b4bcf",
      "metadata": {
        "id": "a99eb9a7-4ca3-4385-b78b-d5be290b4bcf"
      },
      "source": [
        "Declaring matrices"
      ]
    },
    {
      "cell_type": "code",
      "execution_count": 2,
      "id": "47f1ea38-f734-4455-93dd-e265d0742401",
      "metadata": {
        "colab": {
          "base_uri": "https://localhost:8080/"
        },
        "id": "47f1ea38-f734-4455-93dd-e265d0742401",
        "outputId": "79ba157b-9502-40c8-ef1d-c90bcc36de5c"
      },
      "outputs": [
        {
          "output_type": "stream",
          "name": "stdout",
          "text": [
            "Matrix1 =\n",
            " [[ 5 10]\n",
            " [15 20]]\n",
            "\n",
            "Matrix2 =\n",
            " [[25 30]\n",
            " [35 40]]\n"
          ]
        }
      ],
      "source": [
        "mx1 = np.array([[5, 10], [15, 20]])\n",
        "mx2 = np.array([[25, 30], [35, 40]])\n",
        "\n",
        "print(\"Matrix1 =\\n\",mx1)\n",
        "print(\"\\nMatrix2 =\\n\",mx2)"
      ]
    },
    {
      "cell_type": "markdown",
      "id": "3bc3c33e-38e0-461a-8cc9-99af857ffe1b",
      "metadata": {
        "id": "3bc3c33e-38e0-461a-8cc9-99af857ffe1b"
      },
      "source": [
        "Addition using Numpy methods"
      ]
    },
    {
      "cell_type": "code",
      "execution_count": 3,
      "id": "c76f8792-020e-4257-aa6f-0b1ab9fb6342",
      "metadata": {
        "colab": {
          "base_uri": "https://localhost:8080/"
        },
        "id": "c76f8792-020e-4257-aa6f-0b1ab9fb6342",
        "outputId": "6961c78b-c34a-47f2-b7f7-63c943aaafbe"
      },
      "outputs": [
        {
          "output_type": "stream",
          "name": "stdout",
          "text": [
            "\n",
            "Addition of two matrices: \n",
            "[[30 40]\n",
            " [50 60]]\n"
          ]
        }
      ],
      "source": [
        "print (\"\\nAddition of two matrices: \")\n",
        "print (np.add(mx1,mx2))"
      ]
    },
    {
      "cell_type": "markdown",
      "id": "20f8a578-775e-4b47-b1f0-b1299870e8bd",
      "metadata": {
        "id": "20f8a578-775e-4b47-b1f0-b1299870e8bd"
      },
      "source": [
        "Subtraction using Numpy methods"
      ]
    },
    {
      "cell_type": "code",
      "execution_count": 4,
      "id": "5b8e46ac-fc01-4700-a43a-0cd47718d369",
      "metadata": {
        "colab": {
          "base_uri": "https://localhost:8080/"
        },
        "id": "5b8e46ac-fc01-4700-a43a-0cd47718d369",
        "outputId": "244c3d61-099e-4755-e0d8-4e2dfe78722e"
      },
      "outputs": [
        {
          "output_type": "stream",
          "name": "stdout",
          "text": [
            "\n",
            "Subtraction of two matrices: \n",
            "[[-20 -20]\n",
            " [-20 -20]]\n"
          ]
        }
      ],
      "source": [
        "print (\"\\nSubtraction of two matrices: \")\n",
        "print (np.subtract(mx1,mx2))"
      ]
    },
    {
      "cell_type": "markdown",
      "id": "0c30382a-bb11-49c3-afea-4c457de8bdae",
      "metadata": {
        "id": "0c30382a-bb11-49c3-afea-4c457de8bdae"
      },
      "source": [
        "Division using Numpy methods"
      ]
    },
    {
      "cell_type": "code",
      "execution_count": 5,
      "id": "68c7f1b0-da92-4627-8935-d300c376777b",
      "metadata": {
        "colab": {
          "base_uri": "https://localhost:8080/"
        },
        "id": "68c7f1b0-da92-4627-8935-d300c376777b",
        "outputId": "b820cffa-2b51-444e-b19a-bfa2f2814011"
      },
      "outputs": [
        {
          "output_type": "stream",
          "name": "stdout",
          "text": [
            "\n",
            "Matrix Division: \n",
            "[[0.2        0.33333333]\n",
            " [0.42857143 0.5       ]]\n"
          ]
        }
      ],
      "source": [
        "print (\"\\nMatrix Division: \")\n",
        "print (np.divide(mx1,mx2))"
      ]
    },
    {
      "cell_type": "markdown",
      "id": "c8360b29-12ec-4bc6-9fb8-429ad97f8121",
      "metadata": {
        "id": "c8360b29-12ec-4bc6-9fb8-429ad97f8121"
      },
      "source": [
        "Multiplication using Numpy methods"
      ]
    },
    {
      "cell_type": "code",
      "execution_count": 6,
      "id": "6f515a75-74f0-4be2-917d-4515f2dde7f5",
      "metadata": {
        "colab": {
          "base_uri": "https://localhost:8080/"
        },
        "id": "6f515a75-74f0-4be2-917d-4515f2dde7f5",
        "outputId": "56ce4839-a172-468b-b05d-b1d3ac42a251"
      },
      "outputs": [
        {
          "output_type": "stream",
          "name": "stdout",
          "text": [
            "\n",
            "Multiplication of two matrices: \n",
            "[[125 300]\n",
            " [525 800]]\n"
          ]
        }
      ],
      "source": [
        "print (\"\\nMultiplication of two matrices: \")\n",
        "print (np.multiply(mx1,mx2))"
      ]
    },
    {
      "cell_type": "markdown",
      "id": "a76db3e2-9d90-4801-9552-95c94db11e32",
      "metadata": {
        "id": "a76db3e2-9d90-4801-9552-95c94db11e32"
      },
      "source": [
        "<h4>Optimized methods of multiplication</h4>"
      ]
    },
    {
      "cell_type": "code",
      "execution_count": 7,
      "id": "bfd1fa99-6bcd-4651-aacd-a5d599616799",
      "metadata": {
        "colab": {
          "base_uri": "https://localhost:8080/"
        },
        "id": "bfd1fa99-6bcd-4651-aacd-a5d599616799",
        "outputId": "68423780-9cd6-4799-c12e-1f3cc92017a7"
      },
      "outputs": [
        {
          "output_type": "execute_result",
          "data": {
            "text/plain": [
              "array([[ 475,  550],\n",
              "       [1075, 1250]])"
            ]
          },
          "metadata": {},
          "execution_count": 7
        }
      ],
      "source": [
        "mx1 @ mx2"
      ]
    },
    {
      "cell_type": "code",
      "execution_count": 8,
      "id": "32bc3f5a-9c9f-45a5-ae56-e46100377aef",
      "metadata": {
        "colab": {
          "base_uri": "https://localhost:8080/"
        },
        "id": "32bc3f5a-9c9f-45a5-ae56-e46100377aef",
        "outputId": "7e5f2504-2e12-45f1-fc23-2f2305640e0c"
      },
      "outputs": [
        {
          "output_type": "execute_result",
          "data": {
            "text/plain": [
              "array([[ 475,  550],\n",
              "       [1075, 1250]])"
            ]
          },
          "metadata": {},
          "execution_count": 8
        }
      ],
      "source": [
        "np.matmul (mx1, mx2)"
      ]
    },
    {
      "cell_type": "code",
      "execution_count": 9,
      "id": "994624d0-f924-41b9-8f88-f8b0317f70b4",
      "metadata": {
        "colab": {
          "base_uri": "https://localhost:8080/"
        },
        "id": "994624d0-f924-41b9-8f88-f8b0317f70b4",
        "outputId": "f4aa8bef-009a-4470-ff00-41d0cd1956ed"
      },
      "outputs": [
        {
          "output_type": "execute_result",
          "data": {
            "text/plain": [
              "array([[ 475,  550],\n",
              "       [1075, 1250]])"
            ]
          },
          "metadata": {},
          "execution_count": 9
        }
      ],
      "source": [
        "np.dot (mx1, mx2)"
      ]
    },
    {
      "cell_type": "markdown",
      "id": "5766ab10-7625-49bb-bfdb-836bc4f401fd",
      "metadata": {
        "id": "5766ab10-7625-49bb-bfdb-836bc4f401fd"
      },
      "source": [
        "<h4>Summation of Matrix</h4>"
      ]
    },
    {
      "cell_type": "code",
      "execution_count": 10,
      "id": "3f34cdd6-508c-48e3-8a8f-f19c3e4e038c",
      "metadata": {
        "colab": {
          "base_uri": "https://localhost:8080/"
        },
        "id": "3f34cdd6-508c-48e3-8a8f-f19c3e4e038c",
        "outputId": "161b67d9-54be-4387-981d-d6a01aa955b4"
      },
      "outputs": [
        {
          "output_type": "stream",
          "name": "stdout",
          "text": [
            "Matrix =\n",
            " [[ 5 10]\n",
            " [15 20]]\n",
            "\n",
            "The summation of elements=\n",
            "50\n",
            "\n",
            "The column wise summation=\n",
            "[20 30]\n",
            "\n",
            "The row wise summation=\n",
            "[15 35]\n"
          ]
        }
      ],
      "source": [
        "mx = np.array([[5, 10], [15, 20]])\n",
        "\n",
        "print(\"Matrix =\\n\",mx)\n",
        "\n",
        "print (\"\\nThe summation of elements=\")\n",
        "print (np.sum(mx))\n",
        "\n",
        "print (\"\\nThe column wise summation=\")\n",
        "print (np.sum(mx,axis=0))\n",
        "\n",
        "print (\"\\nThe row wise summation=\")\n",
        "print (np.sum(mx,axis=1))"
      ]
    },
    {
      "cell_type": "markdown",
      "id": "d0a857f8-1a22-44ff-a7b9-a3ad9a80a234",
      "metadata": {
        "id": "d0a857f8-1a22-44ff-a7b9-a3ad9a80a234"
      },
      "source": [
        "<h4>Transpose of Matrix</h4>"
      ]
    },
    {
      "cell_type": "code",
      "execution_count": 11,
      "id": "665c63da-534d-4b89-b2b4-33906aaa5570",
      "metadata": {
        "colab": {
          "base_uri": "https://localhost:8080/"
        },
        "id": "665c63da-534d-4b89-b2b4-33906aaa5570",
        "outputId": "8a26d1b5-0f29-4f4c-a9ed-36f6f93b3e6a"
      },
      "outputs": [
        {
          "output_type": "stream",
          "name": "stdout",
          "text": [
            "Matrix =\n",
            " [[ 5 10]\n",
            " [15 20]]\n",
            "\n",
            "The Transpose =\n",
            "[[ 5 15]\n",
            " [10 20]]\n"
          ]
        }
      ],
      "source": [
        "mx = np.array([[5, 10], [15, 20]])\n",
        "\n",
        "print(\"Matrix =\\n\",mx)\n",
        "\n",
        "print (\"\\nThe Transpose =\")\n",
        "print (mx.T)"
      ]
    },
    {
      "cell_type": "markdown",
      "id": "01218da7-ade3-4aa4-be85-29ea3741a2d3",
      "metadata": {
        "id": "01218da7-ade3-4aa4-be85-29ea3741a2d3"
      },
      "source": [
        "#### Numpy method is also available"
      ]
    },
    {
      "cell_type": "code",
      "execution_count": 12,
      "id": "6644c644-b7f3-4471-948a-3eed68fa976c",
      "metadata": {
        "colab": {
          "base_uri": "https://localhost:8080/"
        },
        "id": "6644c644-b7f3-4471-948a-3eed68fa976c",
        "outputId": "4ae976ab-f0c5-4c39-afbb-e4cf66323f67"
      },
      "outputs": [
        {
          "output_type": "execute_result",
          "data": {
            "text/plain": [
              "array([[ 5, 15],\n",
              "       [10, 20]])"
            ]
          },
          "metadata": {},
          "execution_count": 12
        }
      ],
      "source": [
        "np.transpose (mx)"
      ]
    },
    {
      "cell_type": "markdown",
      "id": "6f0b3067-77ef-484b-b28a-64f7317bd844",
      "metadata": {
        "id": "6f0b3067-77ef-484b-b28a-64f7317bd844"
      },
      "source": [
        "#### Inverse of a matrix"
      ]
    },
    {
      "cell_type": "code",
      "execution_count": 13,
      "id": "0a880b0e-dc4a-41d0-aa68-01fb39f748d3",
      "metadata": {
        "colab": {
          "base_uri": "https://localhost:8080/"
        },
        "id": "0a880b0e-dc4a-41d0-aa68-01fb39f748d3",
        "outputId": "0e19660b-ba1c-4763-8877-b25b2e217ae6"
      },
      "outputs": [
        {
          "output_type": "execute_result",
          "data": {
            "text/plain": [
              "array([[-0.4,  0.2],\n",
              "       [ 0.3, -0.1]])"
            ]
          },
          "metadata": {},
          "execution_count": 13
        }
      ],
      "source": [
        "np.linalg.inv (mx)"
      ]
    }
  ],
  "metadata": {
    "kernelspec": {
      "display_name": "Python 3 (ipykernel)",
      "language": "python",
      "name": "python3"
    },
    "language_info": {
      "codemirror_mode": {
        "name": "ipython",
        "version": 3
      },
      "file_extension": ".py",
      "mimetype": "text/x-python",
      "name": "python",
      "nbconvert_exporter": "python",
      "pygments_lexer": "ipython3",
      "version": "3.11.5"
    },
    "colab": {
      "provenance": []
    }
  },
  "nbformat": 4,
  "nbformat_minor": 5
}